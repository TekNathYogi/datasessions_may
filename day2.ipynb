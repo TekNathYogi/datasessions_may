{
 "cells": [
  {
   "cell_type": "code",
   "execution_count": 1,
   "metadata": {},
   "outputs": [
    {
     "name": "stdout",
     "output_type": "stream",
     "text": [
      "Hello\n"
     ]
    }
   ],
   "source": [
    "print(\"Hello\")"
   ]
  },
  {
   "cell_type": "code",
   "execution_count": 2,
   "metadata": {},
   "outputs": [],
   "source": [
    "import numpy as np\n"
   ]
  },
  {
   "cell_type": "code",
   "execution_count": 3,
   "metadata": {},
   "outputs": [
    {
     "data": {
      "text/plain": [
       "'1.16.2'"
      ]
     },
     "execution_count": 3,
     "metadata": {},
     "output_type": "execute_result"
    }
   ],
   "source": [
    "np.__version__\n"
   ]
  },
  {
   "cell_type": "code",
   "execution_count": 4,
   "metadata": {},
   "outputs": [],
   "source": [
    "dataset=np.random.randint(1, 100, 10000)"
   ]
  },
  {
   "cell_type": "code",
   "execution_count": 5,
   "metadata": {},
   "outputs": [],
   "source": [
    "np.savetxt(\"sample1.txt\",dataset, fmt=\"%d\")"
   ]
  },
  {
   "cell_type": "code",
   "execution_count": 6,
   "metadata": {},
   "outputs": [
    {
     "data": {
      "text/plain": [
       "array([29, 45,  6, ..., 31, 20, 60])"
      ]
     },
     "execution_count": 6,
     "metadata": {},
     "output_type": "execute_result"
    }
   ],
   "source": [
    "dataset"
   ]
  },
  {
   "cell_type": "code",
   "execution_count": 7,
   "metadata": {},
   "outputs": [
    {
     "data": {
      "text/plain": [
       "29"
      ]
     },
     "execution_count": 7,
     "metadata": {},
     "output_type": "execute_result"
    }
   ],
   "source": [
    "dataset[0]"
   ]
  },
  {
   "cell_type": "code",
   "execution_count": 9,
   "metadata": {},
   "outputs": [
    {
     "data": {
      "text/plain": [
       "10000"
      ]
     },
     "execution_count": 9,
     "metadata": {},
     "output_type": "execute_result"
    }
   ],
   "source": [
    "dataset.size"
   ]
  },
  {
   "cell_type": "code",
   "execution_count": 10,
   "metadata": {},
   "outputs": [
    {
     "data": {
      "text/plain": [
       "array([29, 45,  6, 59, 91, 17, 60, 98, 23, 26, 35, 42, 52, 10,  9, 61, 51,\n",
       "       12, 39, 54, 60, 65, 91, 95, 20, 71, 90, 22, 71,  2, 15, 35, 65, 76,\n",
       "       15, 13, 57, 72, 99,  9, 21, 72, 25, 66,  8, 79, 10, 46, 27,  7, 52,\n",
       "       29, 63, 65, 72, 31, 42, 93, 80, 29, 36, 94, 84, 53, 95, 57, 36, 22,\n",
       "        8, 49, 77, 30, 86, 76, 99, 87, 77, 24, 97, 13,  9, 29, 13, 75, 60,\n",
       "       46, 27, 41, 84, 86, 69, 85, 99, 89, 12,  3, 39, 43, 98, 54])"
      ]
     },
     "execution_count": 10,
     "metadata": {},
     "output_type": "execute_result"
    }
   ],
   "source": [
    "dataset[:100]"
   ]
  },
  {
   "cell_type": "code",
   "execution_count": 12,
   "metadata": {},
   "outputs": [
    {
     "data": {
      "text/plain": [
       "array([96, 62, 86, 78, 26, 16, 25, 89, 24, 10,  5, 64,  6, 99, 35, 43, 33,\n",
       "       39, 81, 98, 65, 19, 64, 93, 74, 53, 60, 62, 56, 72, 92, 10, 30, 58,\n",
       "       55, 98, 59, 89, 52, 13, 73, 99, 84,  9,  1, 76, 15, 41, 95, 29, 77,\n",
       "       38, 27, 64, 91, 18, 95, 29, 57, 69, 16, 93, 37, 11, 96, 24, 87, 15,\n",
       "       65, 55, 78, 90, 38, 43, 75, 68, 18, 28, 18, 10, 40, 37, 70, 35, 64,\n",
       "       47,  4,  2, 43, 94, 63, 27, 85, 33, 41, 60, 96, 31, 20, 60])"
      ]
     },
     "execution_count": 12,
     "metadata": {},
     "output_type": "execute_result"
    }
   ],
   "source": [
    "dataset[-100:]"
   ]
  },
  {
   "cell_type": "code",
   "execution_count": 14,
   "metadata": {},
   "outputs": [
    {
     "data": {
      "text/plain": [
       "array([96, 62, 86, 78, 26, 16, 25, 89, 24, 10,  5, 64,  6, 99, 35, 43, 33,\n",
       "       39, 81, 98, 65, 19, 64, 93, 74, 53, 60, 62, 56, 72, 92, 10, 30, 58,\n",
       "       55, 98, 59, 89, 52, 13, 73, 99, 84,  9,  1, 76, 15, 41, 95, 29, 77,\n",
       "       38, 27, 64, 91, 18, 95, 29, 57, 69, 16, 93, 37, 11, 96, 24, 87, 15,\n",
       "       65, 55, 78, 90, 38, 43, 75, 68, 18, 28, 18, 10, 40, 37, 70, 35, 64,\n",
       "       47,  4,  2, 43, 94, 63, 27, 85, 33, 41, 60, 96, 31, 20, 60])"
      ]
     },
     "execution_count": 14,
     "metadata": {},
     "output_type": "execute_result"
    }
   ],
   "source": [
    "dataset[dataset.size-100:]"
   ]
  },
  {
   "cell_type": "code",
   "execution_count": 15,
   "metadata": {},
   "outputs": [
    {
     "data": {
      "text/plain": [
       "array([False, False,  True, ..., False, False, False])"
      ]
     },
     "execution_count": 15,
     "metadata": {},
     "output_type": "execute_result"
    }
   ],
   "source": [
    "dataset<10"
   ]
  },
  {
   "cell_type": "code",
   "execution_count": 16,
   "metadata": {},
   "outputs": [
    {
     "data": {
      "text/plain": [
       "array([6, 9, 2, 9, 8, 7, 8, 9, 3, 2, 6, 5, 2, 7, 1, 6, 2, 4, 1, 4, 8, 4,\n",
       "       4, 4, 8, 8, 7, 1, 9, 2, 8, 4, 5, 1, 1, 9, 1, 4, 3, 5, 6, 4, 9, 9,\n",
       "       2, 6, 2, 8, 8, 9, 7, 3, 3, 4, 6, 6, 6, 1, 9, 4, 9, 3, 8, 7, 7, 4,\n",
       "       8, 5, 2, 1, 1, 9, 2, 2, 3, 7, 5, 1, 9, 1, 3, 3, 2, 4, 5, 6, 3, 5,\n",
       "       6, 9, 6, 3, 5, 6, 8, 9, 7, 6, 5, 7, 1, 3, 4, 6, 9, 7, 3, 8, 1, 8,\n",
       "       3, 2, 3, 9, 7, 3, 3, 9, 1, 3, 5, 5, 8, 1, 7, 1, 5, 2, 3, 4, 3, 4,\n",
       "       9, 7, 3, 4, 4, 5, 5, 7, 9, 7, 2, 6, 3, 8, 4, 5, 8, 5, 1, 5, 9, 8,\n",
       "       9, 9, 1, 8, 7, 2, 5, 5, 5, 5, 9, 8, 8, 6, 2, 3, 4, 6, 6, 5, 5, 9,\n",
       "       3, 3, 7, 5, 5, 7, 3, 1, 3, 2, 6, 6, 2, 6, 8, 4, 7, 7, 9, 3, 6, 7,\n",
       "       8, 7, 6, 6, 8, 2, 3, 9, 7, 3, 3, 1, 4, 4, 8, 8, 4, 9, 9, 4, 3, 7,\n",
       "       3, 9, 5, 5, 7, 9, 4, 6, 5, 3, 9, 6, 2, 3, 5, 7, 8, 9, 7, 8, 3, 9,\n",
       "       4, 7, 7, 6, 9, 5, 3, 2, 6, 9, 7, 1, 8, 9, 4, 9, 2, 9, 6, 1, 1, 5,\n",
       "       5, 9, 9, 1, 7, 3, 4, 9, 8, 9, 2, 6, 5, 3, 6, 6, 4, 6, 1, 2, 4, 3,\n",
       "       1, 6, 9, 3, 9, 1, 5, 6, 7, 8, 9, 7, 3, 8, 5, 7, 1, 1, 4, 7, 1, 3,\n",
       "       1, 3, 2, 7, 5, 7, 9, 3, 9, 6, 8, 5, 8, 4, 3, 4, 1, 2, 4, 3, 4, 9,\n",
       "       3, 3, 3, 7, 1, 5, 1, 8, 1, 9, 3, 3, 3, 5, 4, 3, 7, 7, 5, 9, 3, 5,\n",
       "       6, 2, 7, 7, 1, 4, 4, 7, 2, 8, 7, 4, 3, 8, 3, 5, 5, 7, 4, 1, 6, 6,\n",
       "       1, 3, 7, 5, 5, 7, 4, 2, 7, 9, 8, 1, 5, 7, 7, 8, 7, 3, 4, 7, 2, 5,\n",
       "       7, 7, 8, 4, 5, 4, 4, 2, 3, 5, 9, 5, 5, 6, 4, 9, 5, 8, 6, 7, 8, 2,\n",
       "       2, 1, 2, 8, 3, 3, 5, 4, 2, 4, 4, 4, 9, 7, 3, 7, 3, 4, 3, 1, 6, 3,\n",
       "       9, 3, 8, 1, 3, 5, 3, 9, 7, 2, 8, 4, 5, 2, 2, 6, 7, 2, 4, 2, 5, 3,\n",
       "       4, 9, 7, 5, 7, 2, 4, 1, 6, 6, 7, 1, 8, 3, 7, 9, 5, 3, 3, 9, 1, 1,\n",
       "       9, 9, 1, 2, 1, 8, 8, 5, 5, 7, 8, 7, 2, 7, 5, 3, 1, 3, 2, 4, 3, 6,\n",
       "       5, 4, 7, 9, 8, 1, 2, 3, 8, 2, 6, 6, 2, 6, 4, 7, 7, 7, 6, 8, 9, 8,\n",
       "       5, 6, 8, 9, 7, 9, 3, 7, 9, 9, 9, 3, 5, 7, 1, 3, 8, 8, 1, 5, 6, 8,\n",
       "       2, 3, 1, 5, 2, 3, 3, 8, 4, 2, 4, 1, 1, 2, 1, 4, 8, 5, 1, 3, 5, 1,\n",
       "       2, 1, 9, 1, 5, 9, 5, 7, 9, 8, 7, 2, 9, 5, 5, 5, 1, 6, 7, 3, 3, 8,\n",
       "       3, 9, 4, 9, 1, 6, 6, 7, 6, 5, 4, 9, 7, 1, 1, 2, 9, 6, 5, 7, 2, 4,\n",
       "       9, 7, 9, 7, 3, 6, 2, 6, 9, 8, 5, 5, 9, 8, 4, 6, 1, 8, 2, 8, 4, 2,\n",
       "       8, 7, 3, 1, 2, 5, 3, 2, 3, 9, 4, 1, 5, 6, 5, 3, 8, 6, 7, 4, 3, 4,\n",
       "       2, 7, 7, 9, 9, 9, 5, 4, 8, 9, 5, 9, 8, 5, 4, 3, 4, 8, 9, 5, 8, 9,\n",
       "       3, 7, 6, 1, 7, 6, 1, 6, 2, 7, 7, 8, 9, 3, 4, 1, 7, 5, 3, 5, 2, 3,\n",
       "       1, 7, 6, 9, 7, 9, 4, 1, 8, 1, 7, 6, 7, 6, 3, 3, 3, 5, 9, 4, 6, 9,\n",
       "       3, 1, 5, 3, 8, 8, 3, 1, 5, 8, 9, 6, 7, 1, 1, 1, 6, 8, 7, 9, 2, 4,\n",
       "       3, 8, 6, 7, 4, 5, 3, 1, 9, 2, 2, 9, 5, 7, 6, 2, 2, 7, 7, 7, 1, 2,\n",
       "       7, 9, 7, 5, 5, 5, 2, 5, 9, 6, 7, 4, 2, 9, 1, 4, 2, 2, 1, 9, 8, 7,\n",
       "       7, 5, 4, 7, 3, 7, 9, 1, 1, 7, 4, 4, 7, 4, 7, 7, 1, 6, 4, 6, 1, 6,\n",
       "       1, 6, 3, 7, 9, 4, 4, 7, 2, 4, 8, 5, 6, 7, 5, 3, 3, 3, 5, 7, 1, 1,\n",
       "       5, 5, 7, 1, 3, 7, 7, 6, 1, 6, 6, 1, 4, 3, 8, 6, 6, 2, 5, 3, 7, 8,\n",
       "       6, 1, 1, 4, 4, 2, 5, 5, 1, 5, 6, 1, 5, 6, 6, 3, 3, 5, 3, 8, 4, 9,\n",
       "       8, 1, 9, 9, 3, 3, 8, 4, 5, 5, 5, 4, 1, 5, 6, 5, 3, 5, 5, 6, 9, 1,\n",
       "       4, 2])"
      ]
     },
     "execution_count": 16,
     "metadata": {},
     "output_type": "execute_result"
    }
   ],
   "source": [
    "dataset[dataset<10]"
   ]
  },
  {
   "cell_type": "code",
   "execution_count": 17,
   "metadata": {},
   "outputs": [
    {
     "data": {
      "text/plain": [
       "array([98,  2, 99, 99, 99, 98,  2,  2, 99, 99, 98,  1, 99,  2, 99, 99,  1,\n",
       "       98, 98, 98, 98,  1,  2,  1,  1,  1, 98,  2,  2, 98, 98, 98,  1, 98,\n",
       "       98, 98,  2,  1,  1,  2,  2,  1, 98,  1,  2, 99, 99, 99, 98, 98,  1,\n",
       "       98, 99,  1,  2, 98, 99,  1, 99, 98,  1, 99, 98, 98,  1, 99,  2, 99,\n",
       "       99, 98,  2,  1,  1,  2, 98, 99, 99, 99,  2, 98, 98, 99, 98, 99, 99,\n",
       "        1,  2, 99,  2, 99, 99, 99, 98, 99, 99,  2, 98, 99,  1, 98, 98,  2,\n",
       "       98, 98, 98,  2,  1, 99, 98,  2,  1,  1, 99, 99, 98, 99, 99,  1, 98,\n",
       "       99,  2,  1,  2, 98, 99,  1,  1, 99, 99,  1,  1, 98,  1,  1,  2, 99,\n",
       "       98, 99, 99, 99, 98, 99,  1,  2, 99, 99, 99,  1, 99,  1,  1, 98,  2,\n",
       "       99,  1, 99, 99,  2, 98,  1,  1,  2,  1, 98, 99, 99, 98, 98, 98,  2,\n",
       "       99,  2, 98, 99, 99,  2,  2,  1,  2, 99, 99,  2, 98,  1,  1,  2, 99,\n",
       "       98,  2,  2,  2,  2, 99, 98,  2,  1, 99,  1, 99, 98, 98,  1,  1,  1,\n",
       "        2,  1,  2,  1,  2,  1,  2,  2, 98, 98, 98,  2, 99, 98, 98, 99, 99,\n",
       "       98, 99, 98, 99,  1,  1,  2, 99,  1,  2, 98,  2,  1,  1,  2,  1,  1,\n",
       "        1,  2,  1,  1, 99,  2, 99, 99, 99,  1, 98, 98,  1, 98, 99, 98,  1,\n",
       "       99,  1,  2, 98,  2, 98, 99,  2, 99, 99, 98, 99, 99,  1,  2,  2, 98,\n",
       "        1,  2,  2, 98,  1, 98, 99, 99,  2, 98, 99, 99, 98, 98,  1, 98,  1,\n",
       "       99,  2, 99,  1, 99, 98, 98,  2,  1, 98, 99, 99, 98, 99, 98,  1, 98,\n",
       "        1, 98,  1, 98,  1,  1, 98,  1,  1,  2, 99, 98, 98,  1, 98,  2,  2,\n",
       "        2,  2, 98,  1,  2, 99, 99,  2, 98,  2,  1,  2, 99,  2,  1, 99, 99,\n",
       "       99,  1,  1, 98, 98, 99,  1,  1,  1, 99, 98,  2, 99, 99, 98,  1, 98,\n",
       "       98,  1, 98, 98, 99, 99, 99,  1, 98, 99, 98, 99,  1, 99,  1, 99,  2,\n",
       "       99, 99, 99, 98,  1,  1,  2, 98,  1,  1, 98, 99, 99, 98,  1, 99,  1,\n",
       "       99, 99, 98, 98, 99,  1,  2])"
      ]
     },
     "execution_count": 17,
     "metadata": {},
     "output_type": "execute_result"
    }
   ],
   "source": [
    "dataset[(dataset<3) |(dataset>97)]"
   ]
  },
  {
   "cell_type": "code",
   "execution_count": 18,
   "metadata": {},
   "outputs": [],
   "source": [
    "dset1=dataset[dataset<3]"
   ]
  },
  {
   "cell_type": "code",
   "execution_count": 19,
   "metadata": {},
   "outputs": [
    {
     "data": {
      "text/plain": [
       "array([2, 2, 2, 1, 2, 1, 1, 2, 1, 1, 1, 2, 2, 1, 2, 1, 1, 2, 2, 1, 1, 2,\n",
       "       1, 1, 2, 1, 1, 1, 2, 2, 1, 1, 2, 2, 1, 2, 2, 2, 1, 2, 2, 1, 2, 1,\n",
       "       1, 1, 2, 1, 2, 1, 1, 1, 1, 1, 1, 2, 1, 2, 1, 1, 1, 2, 1, 2, 1, 1,\n",
       "       2, 1, 2, 2, 2, 2, 1, 2, 2, 1, 1, 2, 2, 2, 2, 2, 2, 1, 1, 1, 1, 1,\n",
       "       2, 1, 2, 1, 2, 1, 2, 2, 2, 1, 1, 2, 1, 2, 2, 1, 1, 2, 1, 1, 1, 2,\n",
       "       1, 1, 2, 1, 1, 1, 1, 2, 2, 2, 1, 2, 2, 1, 2, 2, 1, 2, 1, 1, 2, 1,\n",
       "       2, 1, 1, 1, 1, 1, 1, 1, 1, 2, 1, 2, 2, 2, 2, 1, 2, 2, 2, 1, 2, 2,\n",
       "       1, 1, 1, 1, 1, 1, 2, 1, 1, 1, 1, 1, 2, 1, 1, 2, 1, 1, 1, 1, 1, 2])"
      ]
     },
     "execution_count": 19,
     "metadata": {},
     "output_type": "execute_result"
    }
   ],
   "source": [
    "dset1"
   ]
  },
  {
   "cell_type": "code",
   "execution_count": 20,
   "metadata": {},
   "outputs": [
    {
     "data": {
      "text/plain": [
       "176"
      ]
     },
     "execution_count": 20,
     "metadata": {},
     "output_type": "execute_result"
    }
   ],
   "source": [
    "dset1.size"
   ]
  },
  {
   "cell_type": "code",
   "execution_count": 21,
   "metadata": {},
   "outputs": [
    {
     "data": {
      "text/plain": [
       "True"
      ]
     },
     "execution_count": 21,
     "metadata": {},
     "output_type": "execute_result"
    }
   ],
   "source": [
    "np.any(dset1)"
   ]
  },
  {
   "cell_type": "code",
   "execution_count": 22,
   "metadata": {},
   "outputs": [
    {
     "data": {
      "text/plain": [
       "True"
      ]
     },
     "execution_count": 22,
     "metadata": {},
     "output_type": "execute_result"
    }
   ],
   "source": [
    "np.all(dset1)"
   ]
  },
  {
   "cell_type": "code",
   "execution_count": 23,
   "metadata": {},
   "outputs": [
    {
     "data": {
      "text/plain": [
       "True"
      ]
     },
     "execution_count": 23,
     "metadata": {},
     "output_type": "execute_result"
    }
   ],
   "source": [
    "np.any(dset1<2)"
   ]
  },
  {
   "cell_type": "code",
   "execution_count": 24,
   "metadata": {},
   "outputs": [
    {
     "data": {
      "text/plain": [
       "False"
      ]
     },
     "execution_count": 24,
     "metadata": {},
     "output_type": "execute_result"
    }
   ],
   "source": [
    "np.all(dset1<2)"
   ]
  },
  {
   "cell_type": "code",
   "execution_count": 25,
   "metadata": {},
   "outputs": [
    {
     "data": {
      "text/plain": [
       "(array([  3,   5,   6,   8,   9,  10,  13,  15,  16,  19,  20,  22,  23,\n",
       "         25,  26,  27,  30,  31,  34,  38,  41,  43,  44,  45,  47,  49,\n",
       "         50,  51,  52,  53,  54,  56,  58,  59,  60,  62,  64,  65,  67,\n",
       "         72,  75,  76,  83,  84,  85,  86,  87,  89,  91,  93,  97,  98,\n",
       "        100, 103, 104, 106, 107, 108, 110, 111, 113, 114, 115, 116, 120,\n",
       "        123, 126, 128, 129, 131, 133, 134, 135, 136, 137, 138, 139, 140,\n",
       "        142, 147, 151, 154, 155, 156, 157, 158, 159, 161, 162, 163, 164,\n",
       "        165, 167, 168, 170, 171, 172, 173, 174], dtype=int64),)"
      ]
     },
     "execution_count": 25,
     "metadata": {},
     "output_type": "execute_result"
    }
   ],
   "source": [
    "np.where(dset1<2)"
   ]
  },
  {
   "cell_type": "code",
   "execution_count": 26,
   "metadata": {},
   "outputs": [
    {
     "data": {
      "text/plain": [
       "array([2, 2, 2, 1, 2, 1, 1, 2, 1, 1, 1, 2, 2, 1, 2, 1, 1, 2, 2, 1, 1, 2,\n",
       "       1, 1, 2, 1, 1, 1, 2, 2, 1, 1, 2, 2, 1, 2, 2, 2, 1, 2, 2, 1, 2, 1,\n",
       "       1, 1, 2, 1, 2, 1, 1, 1, 1, 1, 1, 2, 1, 2, 1, 1, 1, 2, 1, 2, 1, 1,\n",
       "       2, 1, 2, 2, 2, 2, 1, 2, 2, 1, 1, 2, 2, 2, 2, 2, 2, 1, 1, 1, 1, 1,\n",
       "       2, 1, 2, 1, 2, 1, 2, 2, 2, 1, 1, 2, 1, 2, 2, 1, 1, 2, 1, 1, 1, 2,\n",
       "       1, 1, 2, 1, 1, 1, 1, 2, 2, 2, 1, 2, 2, 1, 2, 2, 1, 2, 1, 1, 2, 1,\n",
       "       2, 1, 1, 1, 1, 1, 1, 1, 1, 2, 1, 2, 2, 2, 2, 1, 2, 2, 2, 1, 2, 2,\n",
       "       1, 1, 1, 1, 1, 1, 2, 1, 1, 1, 1, 1, 2, 1, 1, 2, 1, 1, 1, 1, 1, 2])"
      ]
     },
     "execution_count": 26,
     "metadata": {},
     "output_type": "execute_result"
    }
   ],
   "source": [
    "dset1"
   ]
  },
  {
   "cell_type": "code",
   "execution_count": 27,
   "metadata": {},
   "outputs": [
    {
     "data": {
      "text/plain": [
       "array(['two', 'two', 'two', 'one', 'two', 'one', 'one', 'two', 'one',\n",
       "       'one', 'one', 'two', 'two', 'one', 'two', 'one', 'one', 'two',\n",
       "       'two', 'one', 'one', 'two', 'one', 'one', 'two', 'one', 'one',\n",
       "       'one', 'two', 'two', 'one', 'one', 'two', 'two', 'one', 'two',\n",
       "       'two', 'two', 'one', 'two', 'two', 'one', 'two', 'one', 'one',\n",
       "       'one', 'two', 'one', 'two', 'one', 'one', 'one', 'one', 'one',\n",
       "       'one', 'two', 'one', 'two', 'one', 'one', 'one', 'two', 'one',\n",
       "       'two', 'one', 'one', 'two', 'one', 'two', 'two', 'two', 'two',\n",
       "       'one', 'two', 'two', 'one', 'one', 'two', 'two', 'two', 'two',\n",
       "       'two', 'two', 'one', 'one', 'one', 'one', 'one', 'two', 'one',\n",
       "       'two', 'one', 'two', 'one', 'two', 'two', 'two', 'one', 'one',\n",
       "       'two', 'one', 'two', 'two', 'one', 'one', 'two', 'one', 'one',\n",
       "       'one', 'two', 'one', 'one', 'two', 'one', 'one', 'one', 'one',\n",
       "       'two', 'two', 'two', 'one', 'two', 'two', 'one', 'two', 'two',\n",
       "       'one', 'two', 'one', 'one', 'two', 'one', 'two', 'one', 'one',\n",
       "       'one', 'one', 'one', 'one', 'one', 'one', 'two', 'one', 'two',\n",
       "       'two', 'two', 'two', 'one', 'two', 'two', 'two', 'one', 'two',\n",
       "       'two', 'one', 'one', 'one', 'one', 'one', 'one', 'two', 'one',\n",
       "       'one', 'one', 'one', 'one', 'two', 'one', 'one', 'two', 'one',\n",
       "       'one', 'one', 'one', 'one', 'two'], dtype='<U3')"
      ]
     },
     "execution_count": 27,
     "metadata": {},
     "output_type": "execute_result"
    }
   ],
   "source": [
    "np.where(dset1<2, \"one\", \"two\")"
   ]
  },
  {
   "cell_type": "code",
   "execution_count": 28,
   "metadata": {},
   "outputs": [],
   "source": [
    "def map_nums(val):\n",
    "    if val==1: return \"one\"\n",
    "    elif val==2: return \"Two\"\n",
    "    elif val==3: return \"Three\"\n",
    "    else:  return \"Other\""
   ]
  },
  {
   "cell_type": "code",
   "execution_count": 29,
   "metadata": {},
   "outputs": [],
   "source": [
    "dset2=dataset[dataset<5]"
   ]
  },
  {
   "cell_type": "code",
   "execution_count": 30,
   "metadata": {},
   "outputs": [
    {
     "data": {
      "text/plain": [
       "array([2, 3, 2, 2, 1, 2, 4, 1, 4, 4, 4, 4, 1, 2, 4, 1, 1, 1, 4, 3, 4, 2,\n",
       "       2, 3, 3, 4, 1, 4, 3, 4, 2, 1, 1, 2, 2, 3, 1, 1, 3, 3, 2, 4, 3, 3,\n",
       "       1, 3, 4, 3, 1, 3, 2, 3, 3, 3, 1, 3, 1, 1, 2, 3, 4, 3, 4, 3, 4, 4,\n",
       "       2, 3, 4, 1, 1, 2, 2, 3, 4, 3, 3, 3, 1, 3, 2, 2, 4, 3, 2, 3, 3, 3,\n",
       "       1, 4, 4, 4, 4, 3, 3, 4, 3, 2, 3, 3, 4, 3, 2, 1, 4, 2, 1, 1, 1, 3,\n",
       "       4, 2, 3, 4, 1, 2, 4, 3, 1, 3, 1, 3, 1, 1, 4, 1, 3, 1, 3, 2, 3, 4,\n",
       "       3, 4, 1, 2, 4, 3, 4, 3, 3, 3, 1, 1, 1, 3, 3, 3, 4, 3, 3, 2, 1, 4,\n",
       "       4, 2, 4, 3, 3, 4, 1, 1, 3, 4, 2, 1, 3, 4, 2, 4, 4, 4, 2, 3, 4, 2,\n",
       "       2, 1, 2, 3, 3, 4, 2, 4, 4, 4, 3, 3, 4, 3, 1, 3, 3, 1, 3, 3, 2, 4,\n",
       "       2, 2, 2, 4, 2, 3, 4, 2, 4, 1, 1, 3, 3, 3, 1, 1, 1, 2, 1, 2, 3, 1,\n",
       "       3, 2, 4, 3, 4, 1, 2, 3, 2, 2, 4, 3, 3, 1, 3, 1, 2, 3, 1, 2, 3, 3,\n",
       "       4, 2, 4, 1, 1, 2, 1, 4, 1, 3, 1, 2, 1, 1, 2, 1, 3, 3, 3, 4, 1, 4,\n",
       "       1, 1, 2, 2, 4, 3, 2, 4, 1, 2, 4, 2, 3, 1, 2, 3, 2, 3, 4, 1, 3, 4,\n",
       "       3, 4, 2, 4, 4, 3, 4, 3, 1, 1, 2, 3, 4, 1, 3, 2, 3, 1, 4, 1, 1, 3,\n",
       "       3, 3, 4, 3, 1, 3, 3, 1, 1, 1, 1, 2, 4, 3, 4, 3, 1, 2, 2, 2, 2, 1,\n",
       "       2, 2, 4, 2, 1, 4, 2, 2, 1, 4, 3, 1, 1, 4, 4, 4, 1, 4, 1, 1, 3, 4,\n",
       "       4, 2, 4, 3, 3, 3, 1, 1, 1, 3, 1, 1, 4, 3, 2, 3, 1, 1, 4, 4, 2, 1,\n",
       "       1, 3, 3, 3, 4, 1, 3, 3, 4, 4, 1, 3, 1, 4, 2])"
      ]
     },
     "execution_count": 30,
     "metadata": {},
     "output_type": "execute_result"
    }
   ],
   "source": [
    "dset2"
   ]
  },
  {
   "cell_type": "code",
   "execution_count": 31,
   "metadata": {},
   "outputs": [],
   "source": [
    "mapp=np.vectorize(map_nums)"
   ]
  },
  {
   "cell_type": "code",
   "execution_count": 32,
   "metadata": {},
   "outputs": [
    {
     "data": {
      "text/plain": [
       "array(['Two', 'Three', 'Two', 'Two', 'one', 'Two', 'Other', 'one',\n",
       "       'Other', 'Other', 'Other', 'Other', 'one', 'Two', 'Other', 'one',\n",
       "       'one', 'one', 'Other', 'Three', 'Other', 'Two', 'Two', 'Three',\n",
       "       'Three', 'Other', 'one', 'Other', 'Three', 'Other', 'Two', 'one',\n",
       "       'one', 'Two', 'Two', 'Three', 'one', 'one', 'Three', 'Three',\n",
       "       'Two', 'Other', 'Three', 'Three', 'one', 'Three', 'Other', 'Three',\n",
       "       'one', 'Three', 'Two', 'Three', 'Three', 'Three', 'one', 'Three',\n",
       "       'one', 'one', 'Two', 'Three', 'Other', 'Three', 'Other', 'Three',\n",
       "       'Other', 'Other', 'Two', 'Three', 'Other', 'one', 'one', 'Two',\n",
       "       'Two', 'Three', 'Other', 'Three', 'Three', 'Three', 'one', 'Three',\n",
       "       'Two', 'Two', 'Other', 'Three', 'Two', 'Three', 'Three', 'Three',\n",
       "       'one', 'Other', 'Other', 'Other', 'Other', 'Three', 'Three',\n",
       "       'Other', 'Three', 'Two', 'Three', 'Three', 'Other', 'Three', 'Two',\n",
       "       'one', 'Other', 'Two', 'one', 'one', 'one', 'Three', 'Other',\n",
       "       'Two', 'Three', 'Other', 'one', 'Two', 'Other', 'Three', 'one',\n",
       "       'Three', 'one', 'Three', 'one', 'one', 'Other', 'one', 'Three',\n",
       "       'one', 'Three', 'Two', 'Three', 'Other', 'Three', 'Other', 'one',\n",
       "       'Two', 'Other', 'Three', 'Other', 'Three', 'Three', 'Three', 'one',\n",
       "       'one', 'one', 'Three', 'Three', 'Three', 'Other', 'Three', 'Three',\n",
       "       'Two', 'one', 'Other', 'Other', 'Two', 'Other', 'Three', 'Three',\n",
       "       'Other', 'one', 'one', 'Three', 'Other', 'Two', 'one', 'Three',\n",
       "       'Other', 'Two', 'Other', 'Other', 'Other', 'Two', 'Three', 'Other',\n",
       "       'Two', 'Two', 'one', 'Two', 'Three', 'Three', 'Other', 'Two',\n",
       "       'Other', 'Other', 'Other', 'Three', 'Three', 'Other', 'Three',\n",
       "       'one', 'Three', 'Three', 'one', 'Three', 'Three', 'Two', 'Other',\n",
       "       'Two', 'Two', 'Two', 'Other', 'Two', 'Three', 'Other', 'Two',\n",
       "       'Other', 'one', 'one', 'Three', 'Three', 'Three', 'one', 'one',\n",
       "       'one', 'Two', 'one', 'Two', 'Three', 'one', 'Three', 'Two',\n",
       "       'Other', 'Three', 'Other', 'one', 'Two', 'Three', 'Two', 'Two',\n",
       "       'Other', 'Three', 'Three', 'one', 'Three', 'one', 'Two', 'Three',\n",
       "       'one', 'Two', 'Three', 'Three', 'Other', 'Two', 'Other', 'one',\n",
       "       'one', 'Two', 'one', 'Other', 'one', 'Three', 'one', 'Two', 'one',\n",
       "       'one', 'Two', 'one', 'Three', 'Three', 'Three', 'Other', 'one',\n",
       "       'Other', 'one', 'one', 'Two', 'Two', 'Other', 'Three', 'Two',\n",
       "       'Other', 'one', 'Two', 'Other', 'Two', 'Three', 'one', 'Two',\n",
       "       'Three', 'Two', 'Three', 'Other', 'one', 'Three', 'Other', 'Three',\n",
       "       'Other', 'Two', 'Other', 'Other', 'Three', 'Other', 'Three', 'one',\n",
       "       'one', 'Two', 'Three', 'Other', 'one', 'Three', 'Two', 'Three',\n",
       "       'one', 'Other', 'one', 'one', 'Three', 'Three', 'Three', 'Other',\n",
       "       'Three', 'one', 'Three', 'Three', 'one', 'one', 'one', 'one',\n",
       "       'Two', 'Other', 'Three', 'Other', 'Three', 'one', 'Two', 'Two',\n",
       "       'Two', 'Two', 'one', 'Two', 'Two', 'Other', 'Two', 'one', 'Other',\n",
       "       'Two', 'Two', 'one', 'Other', 'Three', 'one', 'one', 'Other',\n",
       "       'Other', 'Other', 'one', 'Other', 'one', 'one', 'Three', 'Other',\n",
       "       'Other', 'Two', 'Other', 'Three', 'Three', 'Three', 'one', 'one',\n",
       "       'one', 'Three', 'one', 'one', 'Other', 'Three', 'Two', 'Three',\n",
       "       'one', 'one', 'Other', 'Other', 'Two', 'one', 'one', 'Three',\n",
       "       'Three', 'Three', 'Other', 'one', 'Three', 'Three', 'Other',\n",
       "       'Other', 'one', 'Three', 'one', 'Other', 'Two'], dtype='<U5')"
      ]
     },
     "execution_count": 32,
     "metadata": {},
     "output_type": "execute_result"
    }
   ],
   "source": [
    "mapp(dset2)"
   ]
  },
  {
   "cell_type": "code",
   "execution_count": 35,
   "metadata": {},
   "outputs": [],
   "source": [
    "def m1(arg):\n",
    "    return arg"
   ]
  },
  {
   "cell_type": "code",
   "execution_count": 36,
   "metadata": {},
   "outputs": [],
   "source": [
    "def hello(func):\n",
    "    def wrapper(arg):\n",
    "        return \"Hello\"+func(arg)\n",
    "    return wrapper\n",
    "    "
   ]
  },
  {
   "cell_type": "code",
   "execution_count": 37,
   "metadata": {},
   "outputs": [],
   "source": [
    "m2=hello(m1)"
   ]
  },
  {
   "cell_type": "code",
   "execution_count": 38,
   "metadata": {},
   "outputs": [
    {
     "data": {
      "text/plain": [
       "<function __main__.hello.<locals>.wrapper(arg)>"
      ]
     },
     "execution_count": 38,
     "metadata": {},
     "output_type": "execute_result"
    }
   ],
   "source": [
    "m2"
   ]
  },
  {
   "cell_type": "code",
   "execution_count": 39,
   "metadata": {},
   "outputs": [
    {
     "data": {
      "text/plain": [
       "'World'"
      ]
     },
     "execution_count": 39,
     "metadata": {},
     "output_type": "execute_result"
    }
   ],
   "source": [
    "m1(\"World\")"
   ]
  },
  {
   "cell_type": "code",
   "execution_count": 40,
   "metadata": {},
   "outputs": [
    {
     "data": {
      "text/plain": [
       "'HelloWorld'"
      ]
     },
     "execution_count": 40,
     "metadata": {},
     "output_type": "execute_result"
    }
   ],
   "source": [
    "m2(\" World\")"
   ]
  },
  {
   "cell_type": "code",
   "execution_count": 41,
   "metadata": {},
   "outputs": [
    {
     "data": {
      "text/plain": [
       "'Hello World'"
      ]
     },
     "execution_count": 41,
     "metadata": {},
     "output_type": "execute_result"
    }
   ],
   "source": [
    "m2(\" World\")"
   ]
  },
  {
   "cell_type": "code",
   "execution_count": 42,
   "metadata": {},
   "outputs": [],
   "source": [
    "@hello\n",
    "def m3(arg):\n",
    "    return arg*3"
   ]
  },
  {
   "cell_type": "code",
   "execution_count": 43,
   "metadata": {},
   "outputs": [
    {
     "data": {
      "text/plain": [
       "'Hello world world world'"
      ]
     },
     "execution_count": 43,
     "metadata": {},
     "output_type": "execute_result"
    }
   ],
   "source": [
    "m3(\" world\")"
   ]
  },
  {
   "cell_type": "code",
   "execution_count": null,
   "metadata": {},
   "outputs": [],
   "source": []
  }
 ],
 "metadata": {
  "kernelspec": {
   "display_name": "Python 3",
   "language": "python",
   "name": "python3"
  },
  "language_info": {
   "codemirror_mode": {
    "name": "ipython",
    "version": 3
   },
   "file_extension": ".py",
   "mimetype": "text/x-python",
   "name": "python",
   "nbconvert_exporter": "python",
   "pygments_lexer": "ipython3",
   "version": "3.7.3"
  }
 },
 "nbformat": 4,
 "nbformat_minor": 2
}
